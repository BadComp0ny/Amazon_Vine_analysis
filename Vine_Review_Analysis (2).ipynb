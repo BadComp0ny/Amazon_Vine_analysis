{
  "nbformat": 4,
  "nbformat_minor": 0,
  "metadata": {
    "colab": {
      "name": "Vine_Review_Analysis.ipynb",
      "provenance": [],
      "collapsed_sections": []
    },
    "kernelspec": {
      "name": "python3",
      "display_name": "Python 3"
    },
    "language_info": {
      "name": "python"
    }
  },
  "cells": [
    {
      "cell_type": "code",
      "execution_count": null,
      "metadata": {
        "id": "RZ8iVGWWckUG"
      },
      "outputs": [],
      "source": [
        "import os\n",
        "# Find the latest version of spark 3.0 from http://www.apache.org/dist/spark/ and enter as the spark version\n",
        "# For example:\n",
        "# spark_version = 'spark-3.0.3'\n",
        "spark_version = 'spark-3.0.3'\n",
        "os.environ['SPARK_VERSION']=spark_version\n",
        "\n",
        "# Install Spark and Java\n",
        "!apt-get update\n",
        "!apt-get install openjdk-11-jdk-headless -qq > /dev/null\n",
        "!wget -q http://www.apache.org/dist/spark/$SPARK_VERSION/$SPARK_VERSION-bin-hadoop2.7.tgz\n",
        "!tar xf $SPARK_VERSION-bin-hadoop2.7.tgz\n",
        "!pip install -q findspark\n",
        "\n",
        "# Set Environment Variables\n",
        "import os\n",
        "os.environ[\"JAVA_HOME\"] = \"/usr/lib/jvm/java-11-openjdk-amd64\"\n",
        "os.environ[\"SPARK_HOME\"] = f\"/content/{spark_version}-bin-hadoop2.7\"\n",
        "\n",
        "# Start a SparkSession\n",
        "import findspark\n",
        "findspark.init()"
      ]
    },
    {
      "cell_type": "code",
      "source": [
        "# Download the Postgres driver that will allow Spark to interact with Postgres.\n",
        "!wget https://jdbc.postgresql.org/download/postgresql-42.2.16.jar"
      ],
      "metadata": {
        "colab": {
          "base_uri": "https://localhost:8080/"
        },
        "id": "TsQstw32dzAa",
        "outputId": "04b55d2b-4076-442b-a4dd-7dc3b50346c4"
      },
      "execution_count": null,
      "outputs": [
        {
          "output_type": "stream",
          "name": "stdout",
          "text": [
            "--2022-07-12 18:52:46--  https://jdbc.postgresql.org/download/postgresql-42.2.16.jar\n",
            "Resolving jdbc.postgresql.org (jdbc.postgresql.org)... 72.32.157.228, 2001:4800:3e1:1::228\n",
            "Connecting to jdbc.postgresql.org (jdbc.postgresql.org)|72.32.157.228|:443... connected.\n",
            "HTTP request sent, awaiting response... 200 OK\n",
            "Length: 1002883 (979K) [application/java-archive]\n",
            "Saving to: ‘postgresql-42.2.16.jar’\n",
            "\n",
            "postgresql-42.2.16. 100%[===================>] 979.38K  4.91MB/s    in 0.2s    \n",
            "\n",
            "2022-07-12 18:52:46 (4.91 MB/s) - ‘postgresql-42.2.16.jar’ saved [1002883/1002883]\n",
            "\n"
          ]
        }
      ]
    },
    {
      "cell_type": "code",
      "source": [
        "from pyspark.sql import SparkSession\n",
        "spark = SparkSession.builder.appName(\"M16-Amazon-Challenge\").config(\"spark.driver.extraClassPath\",\"/content/postgresql-42.2.16.jar\").getOrCreate()"
      ],
      "metadata": {
        "id": "nsa0n5pSc4wA"
      },
      "execution_count": null,
      "outputs": []
    },
    {
      "cell_type": "code",
      "source": [
        "from pyspark import SparkFiles\n",
        "url = \"https://s3.amazonaws.com/amazon-reviews-pds/tsv/amazon_reviews_us_Pet_Products_v1_00.tsv.gz\"\n",
        "spark.sparkContext.addFile(url)\n",
        "df = spark.read.option(\"encoding\", \"UTF-8\").csv(SparkFiles.get(\"\"), sep=\"\\t\", header=True, inferSchema=True)\n",
        "df.show()"
      ],
      "metadata": {
        "colab": {
          "base_uri": "https://localhost:8080/"
        },
        "id": "_bVeBQv_dmSB",
        "outputId": "8cc6820d-dee2-4969-8b47-faa4b456cd60"
      },
      "execution_count": null,
      "outputs": [
        {
          "output_type": "stream",
          "name": "stdout",
          "text": [
            "+-----------+-----------+--------------+----------+--------------+--------------------+----------------+-----------+-------------+-----------+----+-----------------+--------------------+--------------------+-----------+\n",
            "|marketplace|customer_id|     review_id|product_id|product_parent|       product_title|product_category|star_rating|helpful_votes|total_votes|vine|verified_purchase|     review_headline|         review_body|review_date|\n",
            "+-----------+-----------+--------------+----------+--------------+--------------------+----------------+-----------+-------------+-----------+----+-----------------+--------------------+--------------------+-----------+\n",
            "|         US|   28794885| REAKC26P07MDN|B00Q0K9604|     510387886|(8-Pack) EZwhelp ...|    Pet Products|          5|            0|          0|   N|                Y|A great purchase ...|Best belly bands ...| 2015-08-31|\n",
            "|         US|   11488901|R3NU7OMZ4HQIEG|B00MBW5O9W|     912374672|Warren Eckstein's...|    Pet Products|          2|            0|          1|   N|                Y|My dogs love Hugs...|My dogs love Hugs...| 2015-08-31|\n",
            "|         US|   43214993|R14QJW3XF8QO1P|B0084OHUIO|     902215727|Tyson's True Chew...|    Pet Products|          5|            0|          0|   N|                Y|I have been purch...|I have been purch...| 2015-08-31|\n",
            "|         US|   12835065|R2HB7AX0394ZGY|B001GS71K2|     568880110|Soft Side Pet Cra...|    Pet Products|          5|            0|          0|   N|                Y|it is easy to ope...|It is extremely w...| 2015-08-31|\n",
            "|         US|   26334022| RGKMPDQGSAHR3|B004ABH1LG|     692846826|EliteField 3-Door...|    Pet Products|          5|            0|          0|   N|                Y|           Dog crate|Worked really wel...| 2015-08-31|\n",
            "|         US|   22283621|R1DJCVPQGCV66E|B00AX0LFM4|     590674141|Carlson 68-Inch W...|    Pet Products|          5|            0|          0|   N|                Y|          Five Stars|I love my gates! ...| 2015-08-31|\n",
            "|         US|   14469895|R3V52EAWLPBFQG|B00DQFZGZ0|     688538603|Dog Seat Cover Wi...|    Pet Products|          3|            0|          0|   N|                Y|Seat belt tugs on...|Didn't quite work...| 2015-08-31|\n",
            "|         US|   50896354|R3DKO8J1J28QBI|B00DIRF9US|     742358789|The Bird Catcher ...|    Pet Products|          2|            0|          0|   N|                Y|Great Pole, but S...|I had the origina...| 2015-08-31|\n",
            "|         US|   18440567| R764DBXGRNECG|B00JRCBFUG|     869798483|Cat Bed - Purrfec...|    Pet Products|          5|            1|          1|   N|                N|     My cat loves it|The pad is very s...| 2015-08-31|\n",
            "|         US|   50502362| RW1853GAT0Z9F|B000L3XYZ4|     501118658|PetSafe Drinkwell...|    Pet Products|          5|            0|          0|   N|                Y|          Five Stars|My cat drinks mor...| 2015-08-31|\n",
            "|         US|   33930128|R33GITXNUF1AD4|B00BOEXWFG|     454737777|Contech ZenDog Ca...|    Pet Products|          2|            0|          0|   N|                Y|Also had to pull ...|Much smaller than...| 2015-08-31|\n",
            "|         US|   43534290|R1H7AVM81TAYRV|B001HBBQKY|     420905252|Wellness Crunchy ...|    Pet Products|          1|            2|          2|   N|                Y|DO NOT PURCHASE -...|I used to love th...| 2015-08-31|\n",
            "|         US|   45555864|R2ZOYAQZNNZZWV|B007O1FHB0|     302588963|Rx Vitamins Essen...|    Pet Products|          5|            0|          0|   N|                Y|          Five Stars|Recommended by my...| 2015-08-31|\n",
            "|         US|   11147406|R2FN1H3CGW6J8H|B001P3NU30|     525778264|Virbac C.E.T. Enz...|    Pet Products|          1|            0|          0|   N|                Y|Received wrong pr...|Yes I  ordered fo...| 2015-08-31|\n",
            "|         US|    6495678| RJB41Q575XNG4|B00ZP6HS6S|     414117299|Kitty Shack - 2 i...|    Pet Products|          5|            0|          3|   N|                Y|          Five Stars|      It falls apart| 2015-08-31|\n",
            "|         US|    2019416|R28W8BM1587CPF|B00IP05CUA|     833937853|Wellness Kittles ...|    Pet Products|          5|            0|          0|   N|                Y|kitty is ravenous...|My cat really lov...| 2015-08-31|\n",
            "|         US|   40459386|R1II0M01NIG293|B001U8Y598|      85343577|OmniPet Anti-Ant ...|    Pet Products|          2|            0|          0|   N|                N|Maybe other speci...|This bowl is not ...| 2015-08-31|\n",
            "|         US|   23126800| RMB8N0DBRH34O|B011AY4JWO|     499241195|K9KONNECTION [New...|    Pet Products|          5|            1|          1|   N|                Y|This works, dog n...|I have a small do...| 2015-08-31|\n",
            "|         US|   30238476|R24WB6A6WVIPU6|B00DDSHE5A|     409532388|SUNSEED COMPANY 3...|    Pet Products|          5|            0|          0|   N|                Y|    Yummy for Bunny!|Bunny loves it! E...| 2015-08-31|\n",
            "|         US|   35113999| ROCJSH0P9YSRW|B00PJW5OR8|     259271919|CXB1983(TM)Cute P...|    Pet Products|          5|            0|          0|   N|                Y|excellent price, ...|Petfect,,quality ...| 2015-08-31|\n",
            "+-----------+-----------+--------------+----------+--------------+--------------------+----------------+-----------+-------------+-----------+----+-----------------+--------------------+--------------------+-----------+\n",
            "only showing top 20 rows\n",
            "\n"
          ]
        }
      ]
    },
    {
      "cell_type": "code",
      "source": [
        "# Create filtered DF\n",
        "total_votes_df = df.filter(df.total_votes >= 20)\n",
        "total_votes_df.show(10)"
      ],
      "metadata": {
        "colab": {
          "base_uri": "https://localhost:8080/"
        },
        "id": "T5DDi9owd5Hy",
        "outputId": "eee7d697-ed66-4d2c-bee6-1fd6188e27bb"
      },
      "execution_count": null,
      "outputs": [
        {
          "output_type": "stream",
          "name": "stdout",
          "text": [
            "+-----------+-----------+--------------+----------+--------------+--------------------+----------------+-----------+-------------+-----------+----+-----------------+--------------------+--------------------+-----------+\n",
            "|marketplace|customer_id|     review_id|product_id|product_parent|       product_title|product_category|star_rating|helpful_votes|total_votes|vine|verified_purchase|     review_headline|         review_body|review_date|\n",
            "+-----------+-----------+--------------+----------+--------------+--------------------+----------------+-----------+-------------+-----------+----+-----------------+--------------------+--------------------+-----------+\n",
            "|         US|   51227803|R21KC552Y6HL8X|B00E2E1XBK|     180836080|Kennel Deck - 3 Pack|    Pet Products|          1|           27|         31|   N|                Y|The picture is of...|The product add p...| 2015-08-31|\n",
            "|         US|   52747799| RX9WC9FTIR1XR|B00DZITYGU|     598776873|Grey Shark Bed fo...|    Pet Products|          5|           25|         25|   N|                Y|Two seconds flat ...|Once I set it up,...| 2015-08-31|\n",
            "|         US|   23340430| RGDCOU1KBHMNG|B00N9SL8SS|     721942363|Pet Rat Mouse Lea...|    Pet Products|          3|           29|         31|   N|                Y|        OK for Price|Easy enough to pu...| 2015-08-31|\n",
            "|         US|   48234208| RVTYWID2TPMMY|B00EB4IV2A|     140722056|Northmate Catch I...|    Pet Products|          2|           35|         42|   N|                Y|        Intimidating|Love the concept....| 2015-08-31|\n",
            "|         US|    2321625|R2CMPZ5VESGRLY|B00OC7661E|     664108863|4 Pets Large Dog ...|    Pet Products|          4|           27|         28|   N|                Y|Xl fits my 51 pou...|A little big on h...| 2015-08-31|\n",
            "|         US|   48415890|R3VQPJZ54B55BA|B0108LVGZI|     301347908|Medicated Oatmeal...|    Pet Products|          5|           62|         64|   N|                N|My Husky Says \"Th...|[[VIDEOID:2f1bbfc...| 2015-08-31|\n",
            "|         US|   47321827|R24QM6D7FEDZ5M|B00EB4IV2A|     140722056|Northmate Catch I...|    Pet Products|          2|           36|         43|   N|                Y|MINI SIZE IS QUIT...|Have been using t...| 2015-08-31|\n",
            "|         US|   53020738|R3A1VQ3SQDXEJ3|B00OLSARPK|     271494331|TEMPTATIONS SNACK...|    Pet Products|          5|           20|         20|   N|                Y|Fun for Even Less...|[[VIDEOID:4cc2a20...| 2015-08-31|\n",
            "|         US|   41141285|  R39GSNW76GYF|B00YS9HI7C|     821362342|Easyology Premium...|    Pet Products|          1|           20|         23|   N|                Y|Hole within 24 hours|I hate to be one ...| 2015-08-31|\n",
            "|         US|   51455033| RPJLR6MFDPXXE|B00Y841P12|     934091093|Merax Folding Cat...|    Pet Products|          5|           35|         36|   N|                Y|I LOVE THIS STROL...|My dog, Paris, is...| 2015-08-31|\n",
            "+-----------+-----------+--------------+----------+--------------+--------------------+----------------+-----------+-------------+-----------+----+-----------------+--------------------+--------------------+-----------+\n",
            "only showing top 10 rows\n",
            "\n"
          ]
        }
      ]
    },
    {
      "cell_type": "code",
      "source": [
        "# new df off filtered total_votes_df\n",
        "updated_df = total_votes_df.filter((total_votes_df.helpful_votes/total_votes_df.total_votes) >= 0.50)\n",
        "updated_df.show(5)"
      ],
      "metadata": {
        "colab": {
          "base_uri": "https://localhost:8080/"
        },
        "id": "4sqhtGcHes3D",
        "outputId": "5cc3aef3-2119-4096-b1f9-8168351a0382"
      },
      "execution_count": null,
      "outputs": [
        {
          "output_type": "stream",
          "name": "stdout",
          "text": [
            "+-----------+-----------+--------------+----------+--------------+--------------------+----------------+-----------+-------------+-----------+----+-----------------+--------------------+--------------------+-----------+\n",
            "|marketplace|customer_id|     review_id|product_id|product_parent|       product_title|product_category|star_rating|helpful_votes|total_votes|vine|verified_purchase|     review_headline|         review_body|review_date|\n",
            "+-----------+-----------+--------------+----------+--------------+--------------------+----------------+-----------+-------------+-----------+----+-----------------+--------------------+--------------------+-----------+\n",
            "|         US|   51227803|R21KC552Y6HL8X|B00E2E1XBK|     180836080|Kennel Deck - 3 Pack|    Pet Products|          1|           27|         31|   N|                Y|The picture is of...|The product add p...| 2015-08-31|\n",
            "|         US|   52747799| RX9WC9FTIR1XR|B00DZITYGU|     598776873|Grey Shark Bed fo...|    Pet Products|          5|           25|         25|   N|                Y|Two seconds flat ...|Once I set it up,...| 2015-08-31|\n",
            "|         US|   23340430| RGDCOU1KBHMNG|B00N9SL8SS|     721942363|Pet Rat Mouse Lea...|    Pet Products|          3|           29|         31|   N|                Y|        OK for Price|Easy enough to pu...| 2015-08-31|\n",
            "|         US|   48234208| RVTYWID2TPMMY|B00EB4IV2A|     140722056|Northmate Catch I...|    Pet Products|          2|           35|         42|   N|                Y|        Intimidating|Love the concept....| 2015-08-31|\n",
            "|         US|    2321625|R2CMPZ5VESGRLY|B00OC7661E|     664108863|4 Pets Large Dog ...|    Pet Products|          4|           27|         28|   N|                Y|Xl fits my 51 pou...|A little big on h...| 2015-08-31|\n",
            "+-----------+-----------+--------------+----------+--------------+--------------------+----------------+-----------+-------------+-----------+----+-----------------+--------------------+--------------------+-----------+\n",
            "only showing top 5 rows\n",
            "\n"
          ]
        }
      ]
    },
    {
      "cell_type": "code",
      "source": [
        "# new DF to show only VINE results\n",
        "vine_df = updated_df.filter(updated_df.vine == 'Y')\n",
        "vine_df.show(5)"
      ],
      "metadata": {
        "colab": {
          "base_uri": "https://localhost:8080/"
        },
        "id": "wzrbrd2JfVup",
        "outputId": "ba110a52-f553-463a-d781-c720dc1e7b60"
      },
      "execution_count": null,
      "outputs": [
        {
          "output_type": "stream",
          "name": "stdout",
          "text": [
            "+-----------+-----------+--------------+----------+--------------+--------------------+----------------+-----------+-------------+-----------+----+-----------------+--------------------+--------------------+-----------+\n",
            "|marketplace|customer_id|     review_id|product_id|product_parent|       product_title|product_category|star_rating|helpful_votes|total_votes|vine|verified_purchase|     review_headline|         review_body|review_date|\n",
            "+-----------+-----------+--------------+----------+--------------+--------------------+----------------+-----------+-------------+-----------+----+-----------------+--------------------+--------------------+-----------+\n",
            "|         US|   44759540|R3A71VR1JZD8WF|B00JGWN8O8|     378897034|Petcube Interacti...|    Pet Products|          2|           27|         30|   Y|                N|Great idea, not s...|I do not hate thi...| 2015-08-29|\n",
            "|         US|   37388532|R16OMUJIGI18JZ|B00IP05CUA|     833937853|Wellness Kittles ...|    Pet Products|          5|           72|         72|   Y|                N|My cats went craz...|My cats response ...| 2015-08-29|\n",
            "|         US|   51817707|R3TS8ZP2FHQ9XR|B00JGWN8O8|     378897034|Petcube Interacti...|    Pet Products|          5|           39|         42|   Y|                N|keeps my dogs ent...|The Petcube is a ...| 2015-08-25|\n",
            "|         US|   22429746|R2MHP919VZN7DI|B00TZMCB06|     941629379|  NUTRO Wet Cat Food|    Pet Products|          5|           29|         30|   Y|                N|If You Put it Out...|While this cat fo...| 2015-08-19|\n",
            "|         US|   36000673| RD2BCTVS59A5L|B00WO6MKXS|     435705464|Prevue Pet Produc...|    Pet Products|          2|           20|         20|   Y|                N|Good idea but not...|While this scratc...| 2015-08-14|\n",
            "+-----------+-----------+--------------+----------+--------------+--------------------+----------------+-----------+-------------+-----------+----+-----------------+--------------------+--------------------+-----------+\n",
            "only showing top 5 rows\n",
            "\n"
          ]
        }
      ]
    },
    {
      "cell_type": "code",
      "source": [
        "# new DF to show only non-VINE results\n",
        "non_vine_df = updated_df.filter(updated_df.vine == 'N')\n",
        "non_vine_df.show(5)"
      ],
      "metadata": {
        "colab": {
          "base_uri": "https://localhost:8080/"
        },
        "id": "1B7eNMIjf4yJ",
        "outputId": "2ce0511d-041a-4032-a9e8-12f7ac5bb25e"
      },
      "execution_count": null,
      "outputs": [
        {
          "output_type": "stream",
          "name": "stdout",
          "text": [
            "+-----------+-----------+--------------+----------+--------------+--------------------+----------------+-----------+-------------+-----------+----+-----------------+--------------------+--------------------+-----------+\n",
            "|marketplace|customer_id|     review_id|product_id|product_parent|       product_title|product_category|star_rating|helpful_votes|total_votes|vine|verified_purchase|     review_headline|         review_body|review_date|\n",
            "+-----------+-----------+--------------+----------+--------------+--------------------+----------------+-----------+-------------+-----------+----+-----------------+--------------------+--------------------+-----------+\n",
            "|         US|   51227803|R21KC552Y6HL8X|B00E2E1XBK|     180836080|Kennel Deck - 3 Pack|    Pet Products|          1|           27|         31|   N|                Y|The picture is of...|The product add p...| 2015-08-31|\n",
            "|         US|   52747799| RX9WC9FTIR1XR|B00DZITYGU|     598776873|Grey Shark Bed fo...|    Pet Products|          5|           25|         25|   N|                Y|Two seconds flat ...|Once I set it up,...| 2015-08-31|\n",
            "|         US|   23340430| RGDCOU1KBHMNG|B00N9SL8SS|     721942363|Pet Rat Mouse Lea...|    Pet Products|          3|           29|         31|   N|                Y|        OK for Price|Easy enough to pu...| 2015-08-31|\n",
            "|         US|   48234208| RVTYWID2TPMMY|B00EB4IV2A|     140722056|Northmate Catch I...|    Pet Products|          2|           35|         42|   N|                Y|        Intimidating|Love the concept....| 2015-08-31|\n",
            "|         US|    2321625|R2CMPZ5VESGRLY|B00OC7661E|     664108863|4 Pets Large Dog ...|    Pet Products|          4|           27|         28|   N|                Y|Xl fits my 51 pou...|A little big on h...| 2015-08-31|\n",
            "+-----------+-----------+--------------+----------+--------------+--------------------+----------------+-----------+-------------+-----------+----+-----------------+--------------------+--------------------+-----------+\n",
            "only showing top 5 rows\n",
            "\n"
          ]
        }
      ]
    },
    {
      "cell_type": "code",
      "source": [
        "# Summary\n",
        "total_vine_reviews = vine_df.count()\n",
        "total_nonvine_review = non_vine_df.count()\n",
        "total_reviews = total_vine_reviews + total_nonvine_review\n",
        "total_5star_vine = vine_df.filter(vine_df.star_rating == 5).count()\n",
        "total_5star_nonvine = non_vine_df.filter(non_vine_df.star_rating == 5).count()\n",
        "total_5_star = total_5star_vine + total_5star_nonvine\n",
        "percent_vine = total_5star_vine/total_vine_reviews\n",
        "percent_nonvine = total_5star_nonvine/total_nonvine_review\n",
        "\n",
        "print(f\"total vine reviews = {total_vine_reviews}\")\n",
        "print(f\"total non-vine reviews = {total_nonvine_review}\")\n",
        "print(f\"total reviews = {total_reviews}\")\n",
        "print(f\"total paid 5-Star reviews = {total_5star_vine}\")\n",
        "print(f\"total unpaid 5-Star reviews = {total_5star_nonvine}\")\n",
        "print(f\"total 5-Star reviews = {total_5_star}\")\n",
        "print(f\"Percentage of paid 5-star reviews = {percent_vine:.2%}\")\n",
        "print(f\"Percentage of unpaid 5-star reviews = {percent_nonvine:.2%}\")\n"
      ],
      "metadata": {
        "colab": {
          "base_uri": "https://localhost:8080/"
        },
        "id": "yM8Af9e4EvQL",
        "outputId": "43622736-9328-4d48-c3bc-5da0d0c3a99b"
      },
      "execution_count": null,
      "outputs": [
        {
          "output_type": "stream",
          "name": "stdout",
          "text": [
            "total vine reviews = 170\n",
            "total non-vine reviews = 37840\n",
            "total reviews = 38010\n",
            "total paid 5-Star reviews = 65\n",
            "total unpaid 5-Star reviews = 20612\n",
            "total 5-Star reviews = 20677\n",
            "Percentage of paid 5-star reviews = 38.24%\n",
            "Percentage of unpaid 5-star reviews = 54.47%\n"
          ]
        }
      ]
    },
    {
      "cell_type": "code",
      "source": [
        ""
      ],
      "metadata": {
        "id": "VZRFt3fXIK5Y"
      },
      "execution_count": null,
      "outputs": []
    }
  ]
}